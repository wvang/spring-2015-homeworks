{
 "metadata": {
  "name": "",
  "signature": "sha256:74b157bae826d09cb5188b266cd1b5ed37671c930e92a57168906e6e828854b8"
 },
 "nbformat": 3,
 "nbformat_minor": 0,
 "worksheets": [
  {
   "cells": [
    {
     "cell_type": "markdown",
     "metadata": {},
     "source": [
      "(In order to load the stylesheet of this notebook, execute the last code cell in this notebook)"
     ]
    },
    {
     "cell_type": "heading",
     "level": 1,
     "metadata": {},
     "source": [
      "Analyzing hotel ratings on Tripadvisor"
     ]
    },
    {
     "cell_type": "markdown",
     "metadata": {},
     "source": [
      "In this homework we will focus on practicing two techniques: web scraping and regression. For the first part, we will build upon the sample code from the Lecture and attempt to get some basic information for each hotel. Then, we will fit a regression model on this information and try to analyze it.   "
     ]
    },
    {
     "cell_type": "markdown",
     "metadata": {},
     "source": [
      "One of the main disadvantages of scraping a website instead of using an API is that, without any notice, the website may change its layout and render our code useless. Something like that happened in our case. Tripadvisor changed the layout of the buttons that we use to navigate between the different pages of the results. This was the main reason people were having problem with executing the code."
     ]
    },
    {
     "cell_type": "markdown",
     "metadata": {},
     "source": [
      "**Task 1 (20 pts)**\n",
      "\n",
      "The first task of the homework is to fix the scraping code. We basically need to replace the part where we are checking if there is another page and getting its link with new code that reflects the new navigation layout. "
     ]
    },
    {
     "cell_type": "markdown",
     "metadata": {},
     "source": [
      "** Task 2 (30 pts)**\n",
      "\n",
      "Then, for each hotel that our search returns, we will \"click\" (with the code of course) on it and scrape the information below.\n",
      "\n",
      "![Information to be scraped](hotel_info.png)\n",
      "\n",
      "Of course, feel free to collect even more data if you want. "
     ]
    },
    {
     "cell_type": "markdown",
     "metadata": {},
     "source": [
      "** Task 3 (20 pts) **\n",
      "\n",
      "Now, we will use regression to analyze this information. First, we will fit a linear regression model that predicts the average rating. For example, for the hotel above, the average rating is\n",
      "\n",
      "$$ \\text{AVG_SCORE} = \\frac{1*31 + 2*33 + 3*98 + 4*504 + 5*1861}{2527}$$\n",
      "\n",
      "Use the model to analyze the important factors that decide the $\\text{AVG_SCORE}$."
     ]
    },
    {
     "cell_type": "markdown",
     "metadata": {},
     "source": [
      "** Task 4 (30 pts) **\n",
      "\n",
      "Finally, we will use logistic regression to decide if a hotel is _excellent_ or not. We classify a hotel as _excellent_ if more than **60%** of its ratings are 5 stars. This is a binary attribute on which we can fit a logistic regression model. As before, use the model to analyze the data.\n",
      "\n",
      "-------"
     ]
    },
    {
     "cell_type": "markdown",
     "metadata": {},
     "source": [
      "In order to use code from a Python script file, we need to put that file in the same folder as the notebook and import it as a library. Then, we will be able to access it's functions. For example, in the case of the lecture code, we could do the following:\n",
      "\n",
      "``` python\n",
      "import scrape_solution as scrape\n",
      "\n",
      "scrape.get_city_page()\n",
      "```\n",
      "\n",
      "Of course, you might need to modify and restructure the code so that it returns what you need."
     ]
    },
    {
     "cell_type": "markdown",
     "metadata": {},
     "source": [
      "----"
     ]
    },
    {
     "cell_type": "markdown",
     "metadata": {},
     "source": [
      "For Task 1, I modified the scrape_solution.py code accordingly. For Task 2, I added a new function \"extract_hotel_stats\" that is when the code is parsining the hotelist page. It takes a url of a hotel page and scrapes the statistics off of it. \n",
      "\n",
      "To run this code, just run scrape_solution.py as you usually would with the standard command line arguments. The code scrapes the hotel statistics for each hotel, store them in a dict, and stores this dict in a list, then converts this list into a dataframe, then outputs data.csv in the folder.\n",
      "\n",
      "Below is my solution for Task 3."
     ]
    },
    {
     "cell_type": "code",
     "collapsed": false,
     "input": [
      "import scrape_solution as scrape\n",
      "import time\n",
      "\n",
      "import numpy as np\n",
      "import matplotlib.pyplot as plt\n",
      "import pandas as pd\n",
      "\n",
      "import scipy as sp\n",
      "import scipy.sparse.linalg as linalg\n",
      "import scipy.cluster.hierarchy as hr\n",
      "from scipy.spatial.distance import pdist, squareform\n",
      "\n",
      "import sklearn.datasets as datasets\n",
      "import sklearn.metrics as metrics\n",
      "import sklearn.utils as utils\n",
      "import sklearn.linear_model as linear_model\n",
      "import sklearn.cross_validation as cross_validation\n",
      "import sklearn.cluster as cluster\n",
      "from sklearn.neighbors import KNeighborsClassifier\n",
      "from sklearn.decomposition import TruncatedSVD\n",
      "from sklearn.preprocessing import StandardScaler\n",
      "\n",
      "import statsmodels.api as sm\n",
      "\n",
      "from patsy import dmatrices\n",
      "\n",
      "import seaborn as sns\n",
      "%matplotlib inline\n",
      "\n",
      "df = pd.read_csv('data.csv', thousands=',')\n",
      "df = df.drop([df.columns[0]], axis=1)\n",
      "average = df['Average Score']\n",
      "features = df.drop(['Name', 'Average', 'Average Score','Excellent', 'isExcellent', 'Very good', 'Poor', 'Terrible'], axis=1)\n",
      "regr = linear_model.LinearRegression()\n",
      "regr.fit(features, average);\n",
      "#df['Name'] = df['Name'].map(lambda x: x.strip('\\r\\n'))\n",
      "coefficients = regr.coef_\n",
      "for i in range(len(coefficients)):\n",
      "    print features.columns.values[i],\"\\t\",coefficients[i]"
     ],
     "language": "python",
     "metadata": {},
     "outputs": [
      {
       "output_type": "stream",
       "stream": "stdout",
       "text": [
        "Business \t0.000350643772725\n",
        "Cleanliness \t0.271695622348\n",
        "Couples \t0.00046620321008\n",
        "Families \t5.14627647183e-05\n",
        "Location \t0.119041602849\n",
        "Rooms \t0.258426503347\n",
        "Service \t0.194022187648\n",
        "Sleep Quality \t0.104578950343\n",
        "Solo \t-0.000749690222994\n",
        "Total \t-0.000221504753009\n",
        "Value \t0.145521599612\n"
       ]
      }
     ],
     "prompt_number": 33
    },
    {
     "cell_type": "markdown",
     "metadata": {},
     "source": [
      "From the results above, we can see that the top three factors, in order of importance, are Rooms, Cleanliness and Service. The other three factors Location, Sleep Quality, and Value, have coefficients of almost half the value. From the lower coefficients of the number of review in a particular category, we can see that the number of review for a given category have no bearing on the average score.\n",
      "\n",
      "These coefficients seem to suggest that people tend not to care about the location, value, or sleep quality. This may make sense because people tend to be satifisfied by the location and value of a hotel beforehand as it is one of the only factors they can control before they purchase a room, whereas cleanliness, service, and rooms are all factors that they cannot control when purchasing a room and is entirely dependent on the staff/building."
     ]
    },
    {
     "cell_type": "code",
     "collapsed": false,
     "input": [
      "import statsmodels.api as sm\n",
      "\n",
      "df = pd.read_csv('data.csv', thousands=',')\n",
      "df = df.drop([df.columns[0]], axis=1)\n",
      "excellent = df['isExcellent']\n",
      "features = df.drop(['Name', 'Average','Average Score','Excellent', 'isExcellent', 'Very good', 'Poor', 'Terrible'], axis=1)\n",
      "logit = sm.Logit(excellent, features)\n",
      "result = logit.fit() \n",
      "print result.summary()"
     ],
     "language": "python",
     "metadata": {},
     "outputs": [
      {
       "output_type": "stream",
       "stream": "stdout",
       "text": [
        "Optimization terminated successfully.\n",
        "         Current function value: 0.396644\n",
        "         Iterations 8\n",
        "                           Logit Regression Results                           \n",
        "==============================================================================\n",
        "Dep. Variable:            isExcellent   No. Observations:                   77\n",
        "Model:                          Logit   Df Residuals:                       66\n",
        "Method:                           MLE   Df Model:                           10\n",
        "Date:                Mon, 06 Apr 2015   Pseudo R-squ.:                  0.2706\n",
        "Time:                        21:30:21   Log-Likelihood:                -30.542\n",
        "converged:                       True   LL-Null:                       -41.872\n",
        "                                        LLR p-value:                   0.01207\n",
        "=================================================================================\n",
        "                    coef    std err          z      P>|z|      [95.0% Conf. Int.]\n",
        "---------------------------------------------------------------------------------\n",
        "Business          0.0360      0.014      2.561      0.010         0.008     0.064\n",
        "Cleanliness       0.4185      1.651      0.253      0.800        -2.818     3.655\n",
        "Couples           0.0461      0.016      2.874      0.004         0.015     0.078\n",
        "Families          0.0453      0.017      2.640      0.008         0.012     0.079\n",
        "Location          0.0306      0.841      0.036      0.971        -1.618     1.679\n",
        "Rooms             1.9840      1.682      1.180      0.238        -1.312     5.280\n",
        "Service          -1.0874      1.945     -0.559      0.576        -4.900     2.725\n",
        "Sleep Quality    -2.2610      1.863     -1.214      0.225        -5.912     1.390\n",
        "Solo             -0.0254      0.021     -1.187      0.235        -0.067     0.017\n",
        "Total            -0.0325      0.013     -2.563      0.010        -0.057    -0.008\n",
        "Value             0.8506      1.384      0.614      0.539        -1.863     3.564\n",
        "=================================================================================\n"
       ]
      }
     ],
     "prompt_number": 35
    },
    {
     "cell_type": "markdown",
     "metadata": {},
     "source": [
      "From the results above, we can once again see that the top two factors, in order of importance, are Rooms, Cleanliness. Interestingly enough, Service, which was the top third before, has a negative coefficient in this case, whereas Value is now the top third coefficient. This would imply that while service is more important in the average score, Value instead increases the likelihood of a higher percentage of Excellent scores. One possible explanation is that good service results in a bump in the review score regardless of what the other factors were like- but these other factors can still be low. On the other hand good value, as recorded by a customer, implies a certain level of satifaction that they got their moneys worth. Regardless of whether they thought the service was subpar or not, they felt that they recieved an equivalent amount in exchange for their money, so they are more likely to leave an excellent review."
     ]
    },
    {
     "cell_type": "code",
     "collapsed": false,
     "input": [],
     "language": "python",
     "metadata": {},
     "outputs": []
    },
    {
     "cell_type": "code",
     "collapsed": false,
     "input": [
      "# Code for setting the style of the notebook\n",
      "from IPython.core.display import HTML\n",
      "def css_styling():\n",
      "    styles = open(\"../../theme/custom.css\", \"r\").read()\n",
      "    return HTML(styles)\n",
      "css_styling()"
     ],
     "language": "python",
     "metadata": {},
     "outputs": [
      {
       "html": [
        "<link href='http://fonts.googleapis.com/css?family=EB+Garamond' rel='stylesheet' type='text/css'>\n",
        "<link href='http://fonts.googleapis.com/css?family=Alegreya+Sans:100,300,400,500,700,800,900,100italic,300italic,400italic,500italic,700italic,800italic,900italic' rel='stylesheet' type='text/css'>\n",
        "<link href='http://fonts.googleapis.com/css?family=Source+Code+Pro:300,400' rel='stylesheet' type='text/css'>\n",
        "<style>\n",
        "    @font-face {\n",
        "        font-family: \"Computer Modern\";\n",
        "        src: url('http://mirrors.ctan.org/fonts/cm-unicode/fonts/otf/cmunss.otf');\n",
        "    }\n",
        "    .code_cell {\n",
        "        width: 105ex !important ;\n",
        "        margin-bottom: 15px !important;\n",
        "    }\n",
        "    div.cell {\n",
        "        margin-left: auto;\n",
        "        margin-right: auto;\n",
        "        width: 70%;\n",
        "    }    \n",
        "    div.cell.selected {\n",
        "        border: thin rgba(171, 171, 171, 0.5) dashed;\n",
        "    }\n",
        "    h1 {\n",
        "        font-family: 'Alegreya Sans', sans-serif;\n",
        "    }\n",
        "    h2 {\n",
        "        font-family: 'EB Garamond', serif;\n",
        "    }\n",
        "    h3 {\n",
        "        font-family: 'EB Garamond', serif;\n",
        "        margin-top:12px;\n",
        "        margin-bottom: 3px;\n",
        "    }\n",
        "    h4 {\n",
        "        font-family: 'EB Garamond', serif;\n",
        "    }\n",
        "    h5 {\n",
        "        font-family: 'Alegreya Sans', sans-serif;\n",
        "    }\n",
        "    div.text_cell_render {\n",
        "        font-family: 'EB Garamond',Computer Modern, \"Helvetica Neue\", Arial, Helvetica, Geneva, sans-serif;\n",
        "        line-height: 145%;\n",
        "        font-size: 140%;\n",
        "    }\n",
        "    div.input_area {\n",
        "        border-color: rgba(0,0,0,0.10) !important;\n",
        "        background: #fafafa;\n",
        "    }\n",
        "    .CodeMirror {\n",
        "            font-family: \"Source Code Pro\";\n",
        "            font-size: 90%;\n",
        "    }\n",
        "    .prompt {\n",
        "        display: None;\n",
        "    }\n",
        "    .output {\n",
        "        padding-left: 50px;\n",
        "        padding-top: 5px;\n",
        "    }\n",
        "    .output_wrapper {\n",
        "        padding-left: 5px;\n",
        "        padding-top: inherit;\n",
        "    }\n",
        "    div.output_scroll {\n",
        "        width: inherit;\n",
        "    }\n",
        "    .inner_cell {\n",
        "        padding-left: 5px;\n",
        "    }\n",
        "    .text_cell_render h1 {\n",
        "        font-weight: 200;\n",
        "        font-size: 50pt;\n",
        "        line-height: 100%;\n",
        "        color:#CD2305;\n",
        "        margin-bottom: 0.5em;\n",
        "        margin-top: 0.5em;\n",
        "        display: block;\n",
        "    }\n",
        "    .text_cell_render h5 {\n",
        "        font-weight: 300;\n",
        "        font-size: 16pt;\n",
        "        color: #CD2305;\n",
        "        font-style: italic;\n",
        "        margin-bottom: .5em;\n",
        "        margin-top: 0.5em;\n",
        "        display: block;\n",
        "    }\n",
        "    .warning {\n",
        "        color: rgb( 240, 20, 20 )\n",
        "        }  \n",
        "</style>\n",
        "<script>\n",
        "    MathJax.Hub.Config({\n",
        "                        TeX: {\n",
        "                           extensions: [\"AMSmath.js\"]\n",
        "                           },\n",
        "                tex2jax: {\n",
        "                    inlineMath: [ ['$','$'], [\"\\\\(\",\"\\\\)\"] ],\n",
        "                    displayMath: [ ['$$','$$'], [\"\\\\[\",\"\\\\]\"] ]\n",
        "                },\n",
        "                displayAlign: 'center', // Change this to 'center' to center equations.\n",
        "                \"HTML-CSS\": {\n",
        "                    styles: {'.MathJax_Display': {\"margin\": 4}}\n",
        "                }\n",
        "        });\n",
        "</script>"
       ],
       "metadata": {},
       "output_type": "pyout",
       "prompt_number": 1,
       "text": [
        "<IPython.core.display.HTML at 0x37151d0>"
       ]
      }
     ],
     "prompt_number": 1
    },
    {
     "cell_type": "code",
     "collapsed": false,
     "input": [],
     "language": "python",
     "metadata": {},
     "outputs": []
    }
   ],
   "metadata": {}
  }
 ]
}