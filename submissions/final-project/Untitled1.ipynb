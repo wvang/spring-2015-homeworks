{
 "metadata": {
  "name": "",
  "signature": "sha256:68051938978e03aa95c91ef5b4cf7348f5da3792ddec4b034ca28cb19653c3eb"
 },
 "nbformat": 3,
 "nbformat_minor": 0,
 "worksheets": []
}